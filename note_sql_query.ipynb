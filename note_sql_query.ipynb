{
 "cells": [
  {
   "cell_type": "code",
   "execution_count": 1,
   "metadata": {},
   "outputs": [],
   "source": [
    "import mysql.connector;\n",
    "from dotenv import load_dotenv\n",
    "import os\n",
    "\n",
    "# Carrega as variáveis do arquivo .env\n",
    "load_dotenv()\n",
    "\n",
    "# Acesse as variáveis usando os.environ\n",
    "db_user = os.getenv('BD_USER')\n",
    "db_password = os.getenv('BD_PASSWORD')\n",
    "db_port = os.getenv('BD_PORT')\n",
    "db_host = os.getenv('BD_HOST')\n",
    "db_database = os.getenv('BD_DATABASE')\n",
    "\n",
    "# configurações do BD como um dicionário\n",
    "config = {\n",
    "    'host': db_host,\n",
    "    'port': db_port,\n",
    "    'user': db_user,\n",
    "    'password': db_password,\n",
    "    'database': db_database\n",
    "}"
   ]
  },
  {
   "cell_type": "code",
   "execution_count": 2,
   "metadata": {},
   "outputs": [],
   "source": [
    "def conectar():\n",
    "    conexao = mysql.connector.connect(\n",
    "        host=db_host,\n",
    "        port=db_port,\n",
    "        user=db_user,\n",
    "        password=db_password,\n",
    "        database=db_database\n",
    "    )\n",
    "    print(\"conectado com sucesso!\")\n",
    "    return conexao"
   ]
  },
  {
   "cell_type": "code",
   "execution_count": 3,
   "metadata": {},
   "outputs": [
    {
     "name": "stdout",
     "output_type": "stream",
     "text": [
      "conectado com sucesso!\n"
     ]
    }
   ],
   "source": [
    "conexao = conectar()"
   ]
  },
  {
   "cell_type": "code",
   "execution_count": 4,
   "metadata": {},
   "outputs": [],
   "source": [
    "conexao.close()"
   ]
  }
 ],
 "metadata": {
  "kernelspec": {
   "display_name": "Python 3",
   "language": "python",
   "name": "python3"
  },
  "language_info": {
   "codemirror_mode": {
    "name": "ipython",
    "version": 3
   },
   "file_extension": ".py",
   "mimetype": "text/x-python",
   "name": "python",
   "nbconvert_exporter": "python",
   "pygments_lexer": "ipython3",
   "version": "3.12.3"
  }
 },
 "nbformat": 4,
 "nbformat_minor": 2
}
