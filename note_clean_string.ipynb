{
 "cells": [
  {
   "cell_type": "code",
   "execution_count": 28,
   "metadata": {},
   "outputs": [
    {
     "name": "stdout",
     "output_type": "stream",
     "text": [
      "A substring 'INSERT INTO' foi encontrada no índice: 7\n"
     ]
    }
   ],
   "source": [
    "# Texto original\n",
    "texto = '```sql\\nINSERT INTO feedbacks (resposta01, resposta02) VALUES (\"Negativo\", \"Serviço horrível, atrasado.\");\\n``` \\n'\n",
    "\n",
    "# Encontrar o índice da substring 'INSERT INTO'\n",
    "indice_inicio = texto.find('INSERT INTO')\n",
    "\n",
    "# Verificar o resultado\n",
    "if indice_inicio != -1:\n",
    "    print(f\"A substring 'INSERT INTO' foi encontrada no índice: {indice_inicio}\")\n",
    "else:\n",
    "    print(\"A substring 'INSERT INTO' não foi encontrada.\")\n"
   ]
  },
  {
   "cell_type": "code",
   "execution_count": 29,
   "metadata": {},
   "outputs": [
    {
     "data": {
      "text/plain": [
       "'```sql\\n'"
      ]
     },
     "execution_count": 29,
     "metadata": {},
     "output_type": "execute_result"
    }
   ],
   "source": [
    "# remove tudo que há antes de INSERT INTO\n",
    "texto[:indice_inicio]"
   ]
  },
  {
   "cell_type": "code",
   "execution_count": 30,
   "metadata": {},
   "outputs": [
    {
     "name": "stdout",
     "output_type": "stream",
     "text": [
      "A substring ');' foi encontrada no índice: 102\n"
     ]
    }
   ],
   "source": [
    "# Encontrar o índice da substring \");\n",
    "indice_fim = texto.find('\");')\n",
    "\n",
    "# Verificar o resultado\n",
    "if indice_fim != -1:\n",
    "    print(f\"A substring ');' foi encontrada no índice: {indice_fim}\")\n",
    "else:\n",
    "    print(\"A substring ');' não foi encontrada.\")"
   ]
  },
  {
   "cell_type": "code",
   "execution_count": 31,
   "metadata": {},
   "outputs": [
    {
     "data": {
      "text/plain": [
       "'\\n``` \\n'"
      ]
     },
     "execution_count": 31,
     "metadata": {},
     "output_type": "execute_result"
    }
   ],
   "source": [
    "# remove tudo que há após );\n",
    "texto[(indice_fim+3):]"
   ]
  },
  {
   "cell_type": "code",
   "execution_count": 32,
   "metadata": {},
   "outputs": [
    {
     "data": {
      "text/plain": [
       "'INSERT INTO feedbacks (resposta01, resposta02) VALUES (\"Negativo\", \"Serviço horrível, atrasado.\");'"
      ]
     },
     "execution_count": 32,
     "metadata": {},
     "output_type": "execute_result"
    }
   ],
   "source": [
    "texto[indice_inicio:(indice_fim+3)]"
   ]
  }
 ],
 "metadata": {
  "kernelspec": {
   "display_name": "Python 3",
   "language": "python",
   "name": "python3"
  },
  "language_info": {
   "codemirror_mode": {
    "name": "ipython",
    "version": 3
   },
   "file_extension": ".py",
   "mimetype": "text/x-python",
   "name": "python",
   "nbconvert_exporter": "python",
   "pygments_lexer": "ipython3",
   "version": "3.12.3"
  }
 },
 "nbformat": 4,
 "nbformat_minor": 2
}
